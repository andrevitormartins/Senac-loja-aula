{
  "nbformat": 4,
  "nbformat_minor": 0,
  "metadata": {
    "colab": {
      "provenance": [],
      "authorship_tag": "ABX9TyNRafuJjDb7ZwG90IHv93n8",
      "include_colab_link": true
    },
    "kernelspec": {
      "name": "python3",
      "display_name": "Python 3"
    },
    "language_info": {
      "name": "python"
    }
  },
  "cells": [
    {
      "cell_type": "markdown",
      "metadata": {
        "id": "view-in-github",
        "colab_type": "text"
      },
      "source": [
        "<a href=\"https://colab.research.google.com/github/andrevitormartins/Senac-loja-aula/blob/main/Aula6.ipynb\" target=\"_parent\"><img src=\"https://colab.research.google.com/assets/colab-badge.svg\" alt=\"Open In Colab\"/></a>"
      ]
    },
    {
      "cell_type": "code",
      "execution_count": null,
      "metadata": {
        "colab": {
          "base_uri": "https://localhost:8080/"
        },
        "id": "euob9bZtHKo3",
        "outputId": "75f02b63-2aad-4ef1-9c74-56c0b1798324"
      },
      "outputs": [
        {
          "name": "stdout",
          "output_type": "stream",
          "text": [
            "\n",
            "MENU DA LOJA --------\n",
            "1 - Adicionar Produto\n",
            "2 - Atualizar Quantidade\n",
            "3 - Atualizar Preço\n",
            "4 - Remover Produto\n",
            "5 - Exibir todos Produtos Cadastrados\n",
            "6 - Exibir produto mais caro cadastrado\n",
            "0 - Sair\n",
            "\n",
            "Escolha uma opção: 0\n"
          ]
        }
      ],
      "source": [
        "loja = {\n",
        "    \"Celular\":{\"preco\":1985.60, \"quantidade\":5},\n",
        "    \"Microfone\":{\"preco\":70.00, \"quantidade\":3},\n",
        "    \"Sabonete\":{\"preco\":5.25, \"quantidade\":7},\n",
        "    \"Capinha\":{\"preco\":15.00, \"quantidade\":13},\n",
        "}\n",
        "\n",
        "def adicionarProduto(produto, preco, quantidade):\n",
        " loja[produto] = {'preco':preco, 'quantidade':quantidade}\n",
        " print(f\"\\nO Produto {produto} foi adicionado com sucesso!\\n\")\n",
        "\n",
        "def atualizarQuantidade(produto, novaQuantidade):\n",
        "  if produto in loja:\n",
        "    loja[produto][\"quantidade\"] = quantidade\n",
        "    print(f\"\\nQuantidade de {produto} atualizado para {quantidade}\\n\")\n",
        "  else:\n",
        "    print(\"\\nProduto não encontrado\\n\")\n",
        "\n",
        "def atualizarPreco(produto, novaPreco):\n",
        "  if produto in loja:\n",
        "    loja[produto][\"preco\"] = preco\n",
        "    print(f\"\\nO preço de {produto} foi atualizado para R${preco}\")\n",
        "  else:\n",
        "    print(\"\\nProduto não encontrado\\n\")\n",
        "\n",
        "def removerProduto(produto):\n",
        "  if produto in loja:\n",
        "    del loja[produto]\n",
        "    print(f\"\\nO produto {produto} foi removido com sucesso\\n\")\n",
        "  else:\n",
        "    print(\"\\nProduto nâo encontrado\\n\")\n",
        "\n",
        "def exibirProdutos():\n",
        "  print (\"\\nLista de produtos na loja:\")\n",
        "  for produto, info in loja.items():\n",
        "    print(f\"{produto} - Preço: R${info['preco']} - Quantidade: {info['quantidade']}\")\n",
        "\n",
        "def exibirCaro():\n",
        "  produto_mais_caro = max(loja, key=lambda x: loja[x][\"preco\"])\n",
        "  print(f\"\\nO produto com o maior preço é: {produto_mais_caro} com preço de {loja[produto_mais_caro]['preco']}\\n\")\n",
        "\n",
        "def menu():\n",
        "  print(\"\\nMENU DA LOJA --------\")\n",
        "  print(\"1 - Adicionar Produto\")\n",
        "  print(\"2 - Atualizar Quantidade\")\n",
        "  print(\"3 - Atualizar Preço\")\n",
        "  print(\"4 - Remover Produto\")\n",
        "  print(\"5 - Exibir todos Produtos Cadastrados\")\n",
        "  print(\"6 - Exibir produto mais caro cadastrado\")\n",
        "  print(\"0 - Sair\")\n",
        "\n",
        "\n",
        "\n",
        "while True:\n",
        "  menu()\n",
        "  opcao = int(input(\"\\nEscolha uma opção: \"))\n",
        "  if opcao == 0:\n",
        "    break\n",
        "  elif opcao == 1:\n",
        "    print(\"Informe os dados do Produto deseja adicionar\")\n",
        "    produto = input(\"Qual o Nome? \")\n",
        "    preco = float(input(\"Qual o Preço? \"))\n",
        "    quantidade = int(input(\"Qual a quantidade? \"))\n",
        "    adicionarProduto(produto, preco, quantidade)\n",
        "  elif opcao == 2:\n",
        "    print(\"Informe os dados do produto deseja atualizar a quantidade\")\n",
        "    produto = input(\"Qual o nome do produto? \")\n",
        "    quantidade = int(input(\"Qual a quantidade? \"))\n",
        "    atualizarQuantidade(produto, quantidade)\n",
        "  elif opcao == 3:\n",
        "    print(\"Informe os dados do produto deseja atualizar o preço\")\n",
        "    produto = input(\"Qual o nome do produto? \")\n",
        "    preco = float(input(\"Qual o novo Preço? \"))\n",
        "    atualizarPreco(produto, preco)\n",
        "  elif opcao == 4:\n",
        "    print(\"Informe os dados do produto deseja remover\")\n",
        "    produto = input(\"Qual o nome do produto?\")\n",
        "    removerProduto(produto)\n",
        "  elif opcao == 5:\n",
        "    exibirProdutos()\n",
        "  elif opcao == 6:\n",
        "    exibirCaro()\n",
        "  else:\n",
        "    Print(\"Opção Inválida\")\n"
      ]
    }
  ]
}